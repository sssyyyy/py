{
 "cells": [
  {
   "cell_type": "code",
   "execution_count": null,
   "metadata": {},
   "outputs": [],
   "source": []
  },
  {
   "cell_type": "code",
   "execution_count": null,
   "metadata": {},
   "outputs": [],
   "source": []
  },
  {
   "cell_type": "code",
   "execution_count": 14,
   "metadata": {
    "scrolled": true
   },
   "outputs": [
    {
     "name": "stdout",
     "output_type": "stream",
     "text": [
      "계산식 입력: 2 / 2 * 8 + 2 - 8 / 4 + 1\n",
      "계산식 출력: 2/2*8+2-8/4+1 = 9\n"
     ]
    }
   ],
   "source": [
    "class stack:\n",
    "    def __init__(self):\n",
    "        self.items=[]\n",
    "    def push(self,a): #stack에 넣기\n",
    "        self.items.append(a)\n",
    "    def pop(self):  #stack에서 맨마지막 원소 빼고 출력\n",
    "        if len(self.items)<1:\n",
    "            print(\"stack is empty\")\n",
    "            return False\n",
    "        result = self.items.pop()\n",
    "        return result\n",
    "    def isempty(self): #stack 비었는지 확인\n",
    "        if len(self.items)<1:\n",
    "            return True\n",
    "    def istwo(self):  #stack이 2개 이상 있는지 확인\n",
    "        if len(self.items)>=2:\n",
    "            return True\n",
    "        else:\n",
    "            return False\n",
    "    def peek(self):   #stack의 맨마지막 원소 출력\n",
    "        n=len(self.items)\n",
    "        if n>0:\n",
    "            return self.items[n-1]\n",
    "        \n",
    "str=input(\"계산식 입력: \")\n",
    "nums=[]\n",
    "for num in str.split():\n",
    "    nums.append(num)\n",
    "\n",
    "s1=stack()\n",
    "s2=stack()\n",
    "\n",
    "for j,i in enumerate (nums[::1]):\n",
    "    if i=='+'or i=='-' or i=='*' or i=='/': #연산자는 s2 stack에 push\n",
    "        s2.push(i)\n",
    "    else:                                   #피연산자는 s1 stack에 push\n",
    "        s1.push(i)\n",
    "        while s1.istwo():                   #s1의 개수가 2이상이면 계속\n",
    "            op=s2.peek()                    #어떤 연산자인지에 따라 다르게 계산하기 때문에 peek으로 연산자 확인\n",
    "            if op=='+':                     \n",
    "                if j+1==len(nums):          #마지막 피연산자면 바로 두개 pop해서 계산\n",
    "                    s2.pop()\n",
    "                    n1=int(s1.pop())\n",
    "                    n2=int(s1.pop())\n",
    "                    s1.push(n1+n2)\n",
    "                else:                       #마지막 피연산자가 아니면 다음 연산자가 * 나 / 인지 확인\n",
    "                    if nums[j+1]!='*' and nums[j+1]!='/': #다음연산자가 * 나 / 아니면 pop해서 계산\n",
    "                        s2.pop()\n",
    "                        n1=int(s1.pop())\n",
    "                        n2=int(s1.pop())\n",
    "                        s1.push(n1+n2)\n",
    "                    else:                  #다음연산자 *나 / 이면 while문 나가기\n",
    "                        break\n",
    "            elif op=='-':                  #-는 +와 동일\n",
    "                if j+1==len(nums):\n",
    "                    s2.pop()\n",
    "                    n1=int(s1.pop())\n",
    "                    n2=int(s1.pop())\n",
    "                    s1.push(n2-n1)\n",
    "                else:\n",
    "                    if nums[j+1]!='*' and nums[j+1]!='/':\n",
    "                        s2.pop()\n",
    "                        n1=int(s1.pop())\n",
    "                        n2=int(s1.pop())\n",
    "                        s1.push(n2-n1)\n",
    "                    else:\n",
    "                        break\n",
    "            elif op=='*':                 #*는 우선순위가 가장 높기 때문에 *만나면 그냥 pop해서 계산\n",
    "                s2.pop()\n",
    "                n1=int(s1.pop())\n",
    "                n2=int(s1.pop())\n",
    "                s1.push(n1*n2)\n",
    "            else:                         # /는 *와 동일\n",
    "                s2.pop()\n",
    "                n1=int(s1.pop())\n",
    "                n2=int(s1.pop())\n",
    "                s1.push(n2/n1)\n",
    "print(\"계산식 출력:\",str.replace(\" \",\"\"),'=',s1.pop()) #s1에 있는 계산 결과 출력"
   ]
  },
  {
   "cell_type": "code",
   "execution_count": null,
   "metadata": {},
   "outputs": [],
   "source": []
  },
  {
   "cell_type": "code",
   "execution_count": null,
   "metadata": {},
   "outputs": [],
   "source": []
  },
  {
   "cell_type": "code",
   "execution_count": null,
   "metadata": {},
   "outputs": [],
   "source": []
  },
  {
   "cell_type": "code",
   "execution_count": null,
   "metadata": {},
   "outputs": [],
   "source": []
  }
 ],
 "metadata": {
  "kernelspec": {
   "display_name": "Python 3",
   "language": "python",
   "name": "python3"
  },
  "language_info": {
   "codemirror_mode": {
    "name": "ipython",
    "version": 3
   },
   "file_extension": ".py",
   "mimetype": "text/x-python",
   "name": "python",
   "nbconvert_exporter": "python",
   "pygments_lexer": "ipython3",
   "version": "3.8.2"
  }
 },
 "nbformat": 4,
 "nbformat_minor": 4
}
