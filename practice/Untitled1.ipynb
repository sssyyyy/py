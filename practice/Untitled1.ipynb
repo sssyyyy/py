{
 "cells": [
  {
   "cell_type": "code",
   "execution_count": null,
   "metadata": {},
   "outputs": [],
   "source": []
  },
  {
   "cell_type": "code",
   "execution_count": null,
   "metadata": {},
   "outputs": [],
   "source": []
  },
  {
   "cell_type": "code",
   "execution_count": 4,
   "metadata": {
    "scrolled": true
   },
   "outputs": [
    {
     "name": "stdout",
     "output_type": "stream",
     "text": [
      "계산식 입력: 2 / 2 * 9 - 1 + 9 * 8\n",
      "계산 결과: 80\n"
     ]
    }
   ],
   "source": [
    "class stack:\n",
    "    def __init__(self):\n",
    "        self.items=[]\n",
    "    def push(self,a):\n",
    "        self.items.append(a)\n",
    "    def pop(self):\n",
    "        if len(self.items)<1:\n",
    "            print(\"stack is empty\")\n",
    "            return False\n",
    "        result = self.items.pop()\n",
    "        return result\n",
    "    def isempty(self):\n",
    "        if len(self.items)<1:\n",
    "            return True\n",
    "    def istwo(self):\n",
    "        if len(self.items)>=2:\n",
    "            return True\n",
    "        else:\n",
    "            return False\n",
    "    def peek(self):\n",
    "        n=len(self.items)\n",
    "        if n>0:\n",
    "            return self.items[n-1]\n",
    "        \n",
    "str=input(\"계산식 입력: \")\n",
    "nums=[]\n",
    "for num in str.split():\n",
    "    nums.append(num)\n",
    "\n",
    "s1=stack()\n",
    "s2=stack()\n",
    "\n",
    "for j,i in enumerate (nums[::1]):\n",
    "    if i=='+'or i=='-' or i=='*' or i=='/':\n",
    "        s2.push(i)\n",
    "    else:\n",
    "        s1.push(i)\n",
    "        while s1.istwo():\n",
    "            op=s2.peek()\n",
    "            if op=='+':\n",
    "                if j+1==len(nums):\n",
    "                    s2.pop()\n",
    "                    n1=int(s1.pop())\n",
    "                    n2=int(s1.pop())\n",
    "                    s1.push(n1+n2)\n",
    "                else:\n",
    "                    if nums[j+1]!='*' and nums[j+1]!='/':\n",
    "                        s2.pop()\n",
    "                        n1=int(s1.pop())\n",
    "                        n2=int(s1.pop())\n",
    "                        s1.push(n1+n2)\n",
    "                    else: \n",
    "                        break\n",
    "            elif op=='-':\n",
    "                if j+1==len(nums):\n",
    "                    s2.pop()\n",
    "                    n1=int(s1.pop())\n",
    "                    n2=int(s1.pop())\n",
    "                    s1.push(n2-n1)\n",
    "                else:\n",
    "                    if nums[j+1]!='*' and nums[j+1]!='/':\n",
    "                        s2.pop()\n",
    "                        n1=int(s1.pop())\n",
    "                        n2=int(s1.pop())\n",
    "                        s1.push(n2-n1)\n",
    "                    else:\n",
    "                        break\n",
    "            elif op=='*':\n",
    "                s2.pop()\n",
    "                n1=int(s1.pop())\n",
    "                n2=int(s1.pop())\n",
    "                s1.push(n1*n2)\n",
    "            else:\n",
    "                s2.pop()\n",
    "                n1=int(s1.pop())\n",
    "                n2=int(s1.pop())\n",
    "                s1.push(n2/n1)\n",
    "print(\"계산 결과:\",s1.pop())"
   ]
  },
  {
   "cell_type": "code",
   "execution_count": null,
   "metadata": {},
   "outputs": [],
   "source": []
  },
  {
   "cell_type": "code",
   "execution_count": null,
   "metadata": {},
   "outputs": [],
   "source": []
  },
  {
   "cell_type": "code",
   "execution_count": null,
   "metadata": {},
   "outputs": [],
   "source": []
  },
  {
   "cell_type": "code",
   "execution_count": null,
   "metadata": {},
   "outputs": [],
   "source": []
  }
 ],
 "metadata": {
  "kernelspec": {
   "display_name": "Python 3",
   "language": "python",
   "name": "python3"
  },
  "language_info": {
   "codemirror_mode": {
    "name": "ipython",
    "version": 3
   },
   "file_extension": ".py",
   "mimetype": "text/x-python",
   "name": "python",
   "nbconvert_exporter": "python",
   "pygments_lexer": "ipython3",
   "version": "3.7.6"
  }
 },
 "nbformat": 4,
 "nbformat_minor": 4
}
