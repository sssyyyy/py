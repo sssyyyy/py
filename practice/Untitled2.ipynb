{
 "cells": [
  {
   "cell_type": "code",
   "execution_count": 29,
   "metadata": {},
   "outputs": [
    {
     "name": "stdout",
     "output_type": "stream",
     "text": [
      "행렬 1: 1 1 1 2 2 2 3 3 3\n",
      "행렬 2: 3 3 3 2 2 2 1 1 1\n",
      "행렬의 합: \n",
      " [[4 4 4]\n",
      " [4 4 4]\n",
      " [4 4 4]]\n",
      "행렬의 차: \n",
      " [[-2 -2 -2]\n",
      " [ 0  0  0]\n",
      " [ 2  2  2]]\n",
      "행렬의 곱: \n",
      " [[3 3 3]\n",
      " [4 4 4]\n",
      " [3 3 3]]\n"
     ]
    }
   ],
   "source": [
    "import numpy as np\n",
    "in1=input(\"행렬 1: \")\n",
    "alist=in1.split()\n",
    "a=np.array(alist,dtype='i').reshape(3,3)\n",
    "in2=input(\"행렬 2: \")\n",
    "blist=in2.split()\n",
    "b=np.array(blist,dtype='i').reshape(3,3)\n",
    "print(\"행렬의 합: \\n\",a+b)\n",
    "print(\"행렬의 차: \\n\",a-b)\n",
    "print(\"행렬의 곱: \\n\",a*b)"
   ]
  },
  {
   "cell_type": "code",
   "execution_count": null,
   "metadata": {},
   "outputs": [],
   "source": []
  },
  {
   "cell_type": "code",
   "execution_count": null,
   "metadata": {},
   "outputs": [],
   "source": []
  }
 ],
 "metadata": {
  "kernelspec": {
   "display_name": "Python 3",
   "language": "python",
   "name": "python3"
  }
 },
 "nbformat": 4,
 "nbformat_minor": 4
}
